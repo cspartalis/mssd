{
 "cells": [
  {
   "cell_type": "code",
   "execution_count": 2,
   "metadata": {},
   "outputs": [],
   "source": [
    "import pandas as pd\n",
    "import numpy as np\n",
    "import pickle\n",
    "\n",
    "from utils import *"
   ]
  },
  {
   "cell_type": "code",
   "execution_count": null,
   "metadata": {},
   "outputs": [],
   "source": [
    "# load 2021 data\n",
    "\n",
    "# get dictionarIES from pickle file\n",
    "def loadall(filename):\n",
    "    with open(filename, \"rb\") as f:\n",
    "        while True:\n",
    "            try:\n",
    "                yield pickle.load(f)\n",
    "            except EOFError:\n",
    "                break                \n",
    "pkl_file = '../Data/dict2021_allsents.pkl'\n",
    "dicts = loadall(pkl_file)\n",
    "\n",
    "# get subjects' list\n",
    "csv_path = '../Data/clean_sentences_by_subject21.csv'\n",
    "df_temp = pd.read_csv(csv_path, index_col=0)\n",
    "subjects = df_temp.subject.to_list()\n",
    "\n",
    "X = pd.DataFrame()\n",
    "for sub, dict_sub in zip(subjects, dicts):\n",
    "    df_temp = pd.DataFrame()\n",
    "    df_sub = pd.DataFrame.from_dict(dict_sub)\n",
    "    mean_embedding = df_sub.mean(axis=1)\n",
    "    df_temp[sub] = mean_embedding\n",
    "    X = X.append(df_temp.T)"
   ]
  },
  {
   "cell_type": "code",
   "execution_count": 8,
   "metadata": {},
   "outputs": [
    {
     "data": {
      "text/plain": [
       "0"
      ]
     },
     "execution_count": 8,
     "metadata": {},
     "output_type": "execute_result"
    }
   ],
   "source": [
    "predictions_dict = {} # dictionary of sybjects and theie predicted answers\n",
    "f = open('predictions.txt', 'a')\n",
    "f.seek(0)             # delete the contents of the files\n",
    "f.truncate()"
   ]
  },
  {
   "cell_type": "code",
   "execution_count": 9,
   "metadata": {},
   "outputs": [],
   "source": [
    "subjects = X.index.unique().tolist() # list of sub's names ('unique' is useless here)\n",
    "\n",
    "for sub in subjects:\n",
    "    subject_embedding = X.iloc[X.index==sub].values.tolist()[0]\n",
    "    predicted_answers = predict_answers(subject_embedding)\n",
    "    f.write(str(sub) + ' ')\n",
    "    for ans in predicted_answers:\n",
    "        f.write(str(ans) + ' ')\n",
    "    f.write('\\n')\n",
    "f.close()"
   ]
  },
  {
   "cell_type": "code",
   "execution_count": 10,
   "metadata": {},
   "outputs": [
    {
     "name": "stdout",
     "output_type": "stream",
     "text": [
      "Average Hit Rate: 23.69%\n",
      "Average Closeness Rate: 58.27%\n",
      "Average Difference between Overall Depression Levels: 83.35%\n",
      "Depression Category Hit Rate: 33.75%\n"
     ]
    }
   ],
   "source": [
    "evaluation()"
   ]
  },
  {
   "cell_type": "code",
   "execution_count": null,
   "metadata": {},
   "outputs": [],
   "source": []
  }
 ],
 "metadata": {
  "kernelspec": {
   "display_name": "Python 3",
   "language": "python",
   "name": "python3"
  },
  "language_info": {
   "codemirror_mode": {
    "name": "ipython",
    "version": 3
   },
   "file_extension": ".py",
   "mimetype": "text/x-python",
   "name": "python",
   "nbconvert_exporter": "python",
   "pygments_lexer": "ipython3",
   "version": "3.6.12"
  }
 },
 "nbformat": 4,
 "nbformat_minor": 4
}
