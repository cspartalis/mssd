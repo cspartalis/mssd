{
 "cells": [
  {
   "cell_type": "code",
   "execution_count": 1,
   "metadata": {},
   "outputs": [],
   "source": [
    "import pandas as pd\n",
    "import numpy as np\n",
    "import pickle\n",
    "from sklearn.cluster import KMeans\n",
    "from numpy import unravel_index\n",
    "\n",
    "from utils import *"
   ]
  },
  {
   "cell_type": "code",
   "execution_count": 2,
   "metadata": {},
   "outputs": [
    {
     "data": {
      "text/plain": [
       "0"
      ]
     },
     "execution_count": 2,
     "metadata": {},
     "output_type": "execute_result"
    }
   ],
   "source": [
    "predictions_dict = {} # dictionary of sybjects and theie predicted answers\n",
    "f = open('predictions.txt', 'a')\n",
    "f.seek(0)             # delete the contents of the files\n",
    "f.truncate()"
   ]
  },
  {
   "cell_type": "code",
   "execution_count": 3,
   "metadata": {},
   "outputs": [],
   "source": [
    "# load 2021 data\n",
    "\n",
    "# get dictionarIES from pickle file\n",
    "def loadall(filename):\n",
    "    with open(filename, \"rb\") as f:\n",
    "        while True:\n",
    "            try:\n",
    "                yield pickle.load(f)\n",
    "            except EOFError:\n",
    "                break                \n",
    "pkl_file = '../Data/dict2021_allsents.pkl'\n",
    "dicts = loadall(pkl_file)\n",
    "\n",
    "# get subjects' list\n",
    "csv_path = '../Data/clean_sentences_by_subject21.csv'\n",
    "df_temp = pd.read_csv(csv_path, index_col=0)\n",
    "subjects = df_temp.subject.to_list()\n",
    "\n",
    "for sub, dict_sub in zip(subjects, dicts):\n",
    "    subject_embeddings = list(dict_sub.values())\n",
    "    kmeans = KMeans(n_clusters=10, random_state=0).fit(subject_embeddings)\n",
    "    predicted_answers = kmeans_answers(kmeans.cluster_centers_)\n",
    "    f.write(str(sub) + ' ')\n",
    "    for ans in predicted_answers:\n",
    "        f.write(str(ans) + ' ')\n",
    "    f.write('\\n')\n",
    "f.close()"
   ]
  },
  {
   "cell_type": "code",
   "execution_count": 4,
   "metadata": {},
   "outputs": [
    {
     "name": "stdout",
     "output_type": "stream",
     "text": [
      "Average Hit Rate: 23.93%\n",
      "Average Closeness Rate: 56.73%\n",
      "Average Difference between Overall Depression Levels: 81.92%\n",
      "Depression Category Hit Rate: 45.0%\n"
     ]
    }
   ],
   "source": [
    "evaluation()"
   ]
  },
  {
   "cell_type": "code",
   "execution_count": null,
   "metadata": {},
   "outputs": [],
   "source": []
  }
 ],
 "metadata": {
  "kernelspec": {
   "display_name": "Python 3",
   "language": "python",
   "name": "python3"
  },
  "language_info": {
   "codemirror_mode": {
    "name": "ipython",
    "version": 3
   },
   "file_extension": ".py",
   "mimetype": "text/x-python",
   "name": "python",
   "nbconvert_exporter": "python",
   "pygments_lexer": "ipython3",
   "version": "3.6.12"
  }
 },
 "nbformat": 4,
 "nbformat_minor": 4
}
