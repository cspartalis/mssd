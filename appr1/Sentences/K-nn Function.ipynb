{
 "cells": [
  {
   "cell_type": "code",
   "execution_count": 6,
   "metadata": {},
   "outputs": [],
   "source": [
    "import pandas as pd\n",
    "import numpy as np\n",
    "import pickle\n",
    "from sklearn.neighbors import NearestNeighbors\n",
    "\n",
    "from utils import *"
   ]
  },
  {
   "cell_type": "code",
   "execution_count": 7,
   "metadata": {},
   "outputs": [],
   "source": [
    "def examine_k(k):\n",
    "    \n",
    "    # load 2021 data\n",
    "    # get dictionarIES from pickle file\n",
    "    def loadall(filename):\n",
    "        with open(filename, \"rb\") as f:\n",
    "            while True:\n",
    "                try:\n",
    "                    yield pickle.load(f)\n",
    "                except EOFError:\n",
    "                    break                \n",
    "    pkl_file = '../Data/dict2021_allsents.pkl'\n",
    "    dicts = loadall(pkl_file)\n",
    "\n",
    "    # get subjects' list\n",
    "    csv_path = '../Data/clean_sentences_by_subject21.csv'\n",
    "    df_temp = pd.read_csv(csv_path, index_col=0)\n",
    "    subjects = df_temp.subject.to_list()\n",
    "    \n",
    "    predictions_dict = {} # dictionary of sybjects and theie predicted answers\n",
    "    filename = 'predictions.txt'\n",
    "    f = open(filename, 'a')\n",
    "    f.seek(0)             # delete the contents of the files\n",
    "    f.truncate()\n",
    "\n",
    "    for sub, dict_sub in zip(subjects, dicts):\n",
    "        subject_embeddings = list(dict_sub.values())\n",
    "        number_of_posts = len(subject_embeddings) # when k=N, must get same results w/ Mean\n",
    "        predicted_answers = knn_answers(subject_embeddings, k)\n",
    "        f.write(str(sub) + ' ')\n",
    "        for ans in predicted_answers:\n",
    "            f.write(str(ans) + ' ')\n",
    "        f.write('\\n')\n",
    "    f.close()\n",
    "\n",
    "    print('k = ', k)\n",
    "    evaluation(filename)\n",
    "    print('\\n')"
   ]
  },
  {
   "cell_type": "code",
   "execution_count": 8,
   "metadata": {},
   "outputs": [
    {
     "name": "stdout",
     "output_type": "stream",
     "text": [
      "k =  5\n",
      "Average Hit Rate: 21.55%\n",
      "Average Closeness Rate: 57.46%\n",
      "Average Difference between Overall Depression Levels: 82.86%\n",
      "Depression Category Hit Rate: 43.75%\n",
      "\n",
      "\n",
      "k =  6\n",
      "Average Hit Rate: 21.49%\n",
      "Average Closeness Rate: 57.42%\n",
      "Average Difference between Overall Depression Levels: 82.82%\n",
      "Depression Category Hit Rate: 43.75%\n",
      "\n",
      "\n",
      "k =  7\n",
      "Average Hit Rate: 21.43%\n",
      "Average Closeness Rate: 57.32%\n",
      "Average Difference between Overall Depression Levels: 82.68%\n",
      "Depression Category Hit Rate: 43.75%\n",
      "\n",
      "\n",
      "k =  8\n",
      "Average Hit Rate: 21.49%\n",
      "Average Closeness Rate: 57.42%\n",
      "Average Difference between Overall Depression Levels: 82.7%\n",
      "Depression Category Hit Rate: 43.75%\n",
      "\n",
      "\n",
      "k =  9\n",
      "Average Hit Rate: 21.43%\n",
      "Average Closeness Rate: 57.32%\n",
      "Average Difference between Overall Depression Levels: 82.64%\n",
      "Depression Category Hit Rate: 43.75%\n",
      "\n",
      "\n",
      "k =  10\n",
      "Average Hit Rate: 21.61%\n",
      "Average Closeness Rate: 57.34%\n",
      "Average Difference between Overall Depression Levels: 82.74%\n",
      "Depression Category Hit Rate: 42.5%\n",
      "\n",
      "\n"
     ]
    }
   ],
   "source": [
    "for i in range(5, 11):\n",
    "    examine_k(i)"
   ]
  },
  {
   "cell_type": "code",
   "execution_count": null,
   "metadata": {},
   "outputs": [],
   "source": [
    " "
   ]
  }
 ],
 "metadata": {
  "kernelspec": {
   "display_name": "Python 3",
   "language": "python",
   "name": "python3"
  },
  "language_info": {
   "codemirror_mode": {
    "name": "ipython",
    "version": 3
   },
   "file_extension": ".py",
   "mimetype": "text/x-python",
   "name": "python",
   "nbconvert_exporter": "python",
   "pygments_lexer": "ipython3",
   "version": "3.6.12"
  }
 },
 "nbformat": 4,
 "nbformat_minor": 4
}
