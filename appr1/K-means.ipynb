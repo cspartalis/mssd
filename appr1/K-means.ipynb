{
 "cells": [
  {
   "cell_type": "code",
   "execution_count": 1,
   "metadata": {},
   "outputs": [],
   "source": [
    "import pandas as pd\n",
    "import numpy as np\n",
    "import pickle\n",
    "from sklearn.cluster import KMeans\n",
    "from numpy import unravel_index\n",
    "\n",
    "from utils import *"
   ]
  },
  {
   "cell_type": "code",
   "execution_count": 2,
   "metadata": {},
   "outputs": [],
   "source": [
    "# load embeddings of posts 2021\n",
    "# 2021\n",
    "data_dict = {}\n",
    "pickle_in = open('../Data/dict2021_allposts.pkl', 'rb')\n",
    "loaded_dict2021 = pickle.load(pickle_in)\n",
    "\n",
    "# DataFrame\n",
    "X = pd.DataFrame.from_dict(loaded_dict2021).T\n",
    "X.index.names = ['dummy', 'subject'] # set names to indexes\n",
    "X = X.reset_index(level=[0])\n",
    "X = X.drop(['dummy'], axis=1)"
   ]
  },
  {
   "cell_type": "code",
   "execution_count": 3,
   "metadata": {},
   "outputs": [
    {
     "data": {
      "text/plain": [
       "0"
      ]
     },
     "execution_count": 3,
     "metadata": {},
     "output_type": "execute_result"
    }
   ],
   "source": [
    "predictions_dict = {} # dictionary of sybjects and theie predicted answers\n",
    "f = open('predictions.txt', 'a')\n",
    "f.seek(0)             # delete the contents of the files\n",
    "f.truncate()"
   ]
  },
  {
   "cell_type": "code",
   "execution_count": null,
   "metadata": {},
   "outputs": [],
   "source": [
    "subjects = X.index.unique().tolist() # list of sub's names ('unique' is useless here)\n",
    "\n",
    "for sub in subjects:\n",
    "    subject_embeddings = X.iloc[X.index==sub].values.tolist()\n",
    "    kmeans = KMeans(n_clusters=9, random_state=0).fit(subject_embeddings)\n",
    "    predicted_answers = kmeans_answers(kmeans.cluster_centers_)\n",
    "    f.write(str(sub) + ' ')\n",
    "    for ans in predicted_answers:\n",
    "        f.write(str(ans) + ' ')\n",
    "    f.write('\\n')\n",
    "f.close()"
   ]
  },
  {
   "cell_type": "code",
   "execution_count": null,
   "metadata": {},
   "outputs": [],
   "source": [
    "evaluation()"
   ]
  },
  {
   "cell_type": "code",
   "execution_count": null,
   "metadata": {},
   "outputs": [],
   "source": []
  }
 ],
 "metadata": {
  "kernelspec": {
   "display_name": "Python 3",
   "language": "python",
   "name": "python3"
  },
  "language_info": {
   "codemirror_mode": {
    "name": "ipython",
    "version": 3
   },
   "file_extension": ".py",
   "mimetype": "text/x-python",
   "name": "python",
   "nbconvert_exporter": "python",
   "pygments_lexer": "ipython3",
   "version": "3.6.12"
  }
 },
 "nbformat": 4,
 "nbformat_minor": 4
}
