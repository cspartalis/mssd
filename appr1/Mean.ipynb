{
 "cells": [
  {
   "cell_type": "code",
   "execution_count": 1,
   "metadata": {},
   "outputs": [],
   "source": [
    "import pandas as pd\n",
    "import numpy as np\n",
    "import pickle\n",
    "\n",
    "from utils import *"
   ]
  },
  {
   "cell_type": "code",
   "execution_count": 2,
   "metadata": {},
   "outputs": [],
   "source": [
    "# load embeddings of posts 2021\n",
    "# 2021\n",
    "data_dict = {}\n",
    "pickle_in = open('../Data/dict2021_allposts.pkl', 'rb')\n",
    "loaded_dict2021 = pickle.load(pickle_in)\n",
    "\n",
    "# DataFrame\n",
    "X = pd.DataFrame.from_dict(loaded_dict2021).T\n",
    "X.index.names = ['dummy', 'subject'] # set names to indexes\n",
    "X = X.groupby('subject').mean()      # group by 'subject' (mean)\n",
    "X = X.sort_index()                   # sort by sybject's name"
   ]
  },
  {
   "cell_type": "code",
   "execution_count": 3,
   "metadata": {},
   "outputs": [
    {
     "data": {
      "text/plain": [
       "0"
      ]
     },
     "execution_count": 3,
     "metadata": {},
     "output_type": "execute_result"
    }
   ],
   "source": [
    "predictions_dict = {} # dictionary of sybjects and theie predicted answers\n",
    "f = open('predictions.txt', 'a')\n",
    "f.seek(0)             # delete the contents of the files\n",
    "f.truncate()"
   ]
  },
  {
   "cell_type": "code",
   "execution_count": 4,
   "metadata": {},
   "outputs": [],
   "source": [
    "subjects = X.index.unique().tolist() # list of sub's names ('unique' is useless here)\n",
    "\n",
    "for sub in subjects:\n",
    "    subject_embedding = X.iloc[X.index==sub].values.tolist()[0]\n",
    "    predicted_answers = predict_answers(subject_embedding)\n",
    "    f.write(str(sub) + ' ')\n",
    "    for ans in predicted_answers:\n",
    "        f.write(str(ans) + ' ')\n",
    "    f.write('\\n')\n",
    "f.close()"
   ]
  },
  {
   "cell_type": "code",
   "execution_count": 5,
   "metadata": {},
   "outputs": [
    {
     "name": "stdout",
     "output_type": "stream",
     "text": [
      "Average Hit Rate: 24.35%\n",
      "Average Closeness Rate: 63.08%\n",
      "Average Difference between Overall Depression Levels: 81.73%\n",
      "Depression Category Hit Rate: 30.0%\n"
     ]
    }
   ],
   "source": [
    "evaluation()"
   ]
  }
 ],
 "metadata": {
  "kernelspec": {
   "display_name": "Python 3",
   "language": "python",
   "name": "python3"
  },
  "language_info": {
   "codemirror_mode": {
    "name": "ipython",
    "version": 3
   },
   "file_extension": ".py",
   "mimetype": "text/x-python",
   "name": "python",
   "nbconvert_exporter": "python",
   "pygments_lexer": "ipython3",
   "version": "3.6.12"
  }
 },
 "nbformat": 4,
 "nbformat_minor": 4
}
